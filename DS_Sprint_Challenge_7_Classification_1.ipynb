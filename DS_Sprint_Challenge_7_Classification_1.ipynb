{
 "cells": [
  {
   "cell_type": "markdown",
   "metadata": {
    "colab_type": "text",
    "id": "7NQhCv9N9NCo"
   },
   "source": [
    "_Lambda School Data Science, Unit 2_\n",
    " \n",
    "# Sprint Challenge: Predict Steph Curry's shots 🏀\n",
    "\n",
    "For your Sprint Challenge, you'll use a dataset with all Steph Curry's NBA field goal attempts. (Regular season and playoff games, from October 28, 2009, through June 5, 2019.) \n",
    "\n",
    "You'll use information about the shot and the game to predict whether the shot was made. This is hard to predict! Try for an accuracy score in the high 50's or low 60's. The dataset was collected with the [nba_api](https://github.com/swar/nba_api) Python library."
   ]
  },
  {
   "cell_type": "code",
   "execution_count": 2,
   "metadata": {
    "colab": {},
    "colab_type": "code",
    "id": "5RDEWI9c9NCr"
   },
   "outputs": [],
   "source": [
    "import pandas as pd\n",
    "url = 'https://drive.google.com/uc?export=download&id=1fL7KPyxgGYfQDsuJoBWHIWwCAf-HTFpX'\n",
    "df = pd.read_csv(url, parse_dates=['game_date']).set_index('game_date')\n",
    "assert df.shape == (13958, 19)"
   ]
  },
  {
   "cell_type": "markdown",
   "metadata": {},
   "source": [
    "This Sprint Challenge has two parts. To demonstrate mastery on each part, do all the required, numbered instructions. To earn a score of \"3\" for the part, also do the stretch goals.\n",
    "\n",
    "## Part 1. Prepare to model\n",
    "\n",
    "### Required\n",
    "\n",
    "1. **Do train/validate/test split.** Use the 2009-10 season through 2016-17 season to train, the 2017-18 season to validate, and the 2018-19 season to test. NBA seasons begin in October and end in June. You'll know you've split the data correctly when your train set has 11081 observations, your validation set has 1168 observations, and your test set has 1709 observations."
   ]
  },
  {
   "cell_type": "code",
   "execution_count": 3,
   "metadata": {},
   "outputs": [
    {
     "data": {
      "text/plain": [
       "((11081, 21), (1168, 21), (1709, 21))"
      ]
     },
     "execution_count": 3,
     "metadata": {},
     "output_type": "execute_result"
    }
   ],
   "source": [
    "df['year'] = df.index.year\n",
    "df['month'] = df.index.month\n",
    "\n",
    "early_2017 = (df['year'] == 2017) & (df['month'] < 7)\n",
    "late_2017 = (df['year'] == 2017) & (df['month'] >= 7)\n",
    "early_2018 = (df['year'] == 2018) & (df['month'] < 7)\n",
    "late_2018 = (df['year'] == 2018) & (df['month'] >= 7)\n",
    "\n",
    "train_condition = (df['year'] <= 2016) | (early_2017)\n",
    "\n",
    "val_condition = (late_2017) | (early_2018)\n",
    "test_condition = (late_2018) | (df['year'] > 2018)\n",
    "\n",
    "train = df[train_condition].copy()\n",
    "val = df[val_condition].copy()\n",
    "test = df[test_condition].copy()\n",
    "\n",
    "train.shape, val.shape, test.shape"
   ]
  },
  {
   "cell_type": "markdown",
   "metadata": {},
   "source": [
    "2. **Begin with baselines for classification.** Your target to predict is `shot_made_flag`. What is the baseline accuracy for the validation set, if you guessed the majority class for every prediction?"
   ]
  },
  {
   "cell_type": "code",
   "execution_count": 4,
   "metadata": {},
   "outputs": [
    {
     "data": {
      "text/plain": [
       "0    5842\n",
       "1    5239\n",
       "Name: shot_made_flag, dtype: int64"
      ]
     },
     "execution_count": 4,
     "metadata": {},
     "output_type": "execute_result"
    }
   ],
   "source": [
    "target = 'shot_made_flag'\n",
    "\n",
    "train[target].value_counts()"
   ]
  },
  {
   "cell_type": "code",
   "execution_count": 5,
   "metadata": {},
   "outputs": [
    {
     "data": {
      "text/plain": [
       "0.5162671232876712"
      ]
     },
     "execution_count": 5,
     "metadata": {},
     "output_type": "execute_result"
    }
   ],
   "source": [
    "from sklearn.metrics import accuracy_score as acc\n",
    "val['baseline'] = 0\n",
    "\n",
    "acc(val['baseline'], val[target])"
   ]
  },
  {
   "cell_type": "markdown",
   "metadata": {},
   "source": [
    "3. **Use Ordinal Encoding _or_ One-Hot Encoding,** for the categorical features you select."
   ]
  },
  {
   "cell_type": "code",
   "execution_count": 6,
   "metadata": {},
   "outputs": [],
   "source": [
    "from sklearn.pipeline import make_pipeline\n",
    "from category_encoders import OrdinalEncoder\n",
    "\n",
    "def pre_processing(train, val, test):\n",
    "    pipeline = make_pipeline(OrdinalEncoder())\n",
    "    pipeline.fit(train)\n",
    "    \n",
    "    x_train = pd.DataFrame(pipeline.transform(train))\n",
    "    x_train.columns = train.columns\n",
    "   \n",
    "    x_val = pd.DataFrame(pipeline.transform(val))\n",
    "    x_val.columns = val.columns\n",
    "    \n",
    "    x_test = pd.DataFrame(pipeline.transform(test))\n",
    "    x_test.columns = test.columns\n",
    "    \n",
    "    return x_train, x_val, x_test"
   ]
  },
  {
   "cell_type": "markdown",
   "metadata": {},
   "source": [
    "4. **Train a Random Forest _or_ Logistic Regression** with the features you select."
   ]
  },
  {
   "cell_type": "code",
   "execution_count": 7,
   "metadata": {},
   "outputs": [
    {
     "data": {
      "text/plain": [
       "RandomForestClassifier(bootstrap=True, class_weight=None, criterion='gini',\n",
       "                       max_depth=None, max_features='auto', max_leaf_nodes=None,\n",
       "                       min_impurity_decrease=0.0, min_impurity_split=None,\n",
       "                       min_samples_leaf=1, min_samples_split=2,\n",
       "                       min_weight_fraction_leaf=0.0, n_estimators=20,\n",
       "                       n_jobs=None, oob_score=False, random_state=None,\n",
       "                       verbose=0, warm_start=False)"
      ]
     },
     "execution_count": 7,
     "metadata": {},
     "output_type": "execute_result"
    }
   ],
   "source": [
    "from sklearn.ensemble import RandomForestClassifier\n",
    "\n",
    "drop_these = ['year', target]\n",
    "features = test.drop(columns=drop_these).columns\n",
    "\n",
    "pp_train, pp_val, pp_test = pre_processing(train[features], val[features], test[features])\n",
    "\n",
    "model = RandomForestClassifier(n_estimators = 20)\n",
    "model.fit(pp_train, train[target])"
   ]
  },
  {
   "cell_type": "markdown",
   "metadata": {},
   "source": [
    "### Stretch goals\n",
    "Engineer at least 4 of these 5 features:\n",
    "\n",
    "- **Homecourt Advantage**: Is the home team (`htm`) the Golden State Warriors (`GSW`) ?\n",
    "- **Opponent**: Who is the other team playing the Golden State Warriors?\n",
    "- **Seconds remaining in the period**: Combine minutes remaining with seconds remaining, to get the total number of seconds remaining in the period.\n",
    "- **Seconds remaining in the game**: Combine period, and seconds remaining in the period, to get the total number of seconds remaining in the game. A basketball game has 4 periods, each 12 minutes long.\n",
    "- **Made previous shot**: Was Steph Curry's previous shot successful?\n",
    "    "
   ]
  },
  {
   "cell_type": "code",
   "execution_count": 26,
   "metadata": {},
   "outputs": [],
   "source": [
    "df.columns\n",
    "df['Homecourt_Advantage']= df['htm'] == 'GSW'\n",
    "df['Opponenet'] = df['htm'].replace('GSW', '') + df['vtm'].replace('GSW', '')\n",
    "df['seconds_remaining_in_per'] = df['minutes_remaining'] * 60 + df['seconds_remaining']\n",
    "df['seconds_remaining_in_game'] = (4 - df['period']) * 12 * 60 + df['seconds_remaining_in_per']\n",
    "\n",
    "df['not_first_shot'] = df.shift(1)['game_id'] == df['game_id']\n",
    "df['previous_shot_made'] = df.shift(-1)[target].astype(bool)\n",
    "df['previous_shot_made_corr'] = (df['not_first_shot']) & (df['previous_shot_made'])"
   ]
  },
  {
   "cell_type": "code",
   "execution_count": 31,
   "metadata": {},
   "outputs": [
    {
     "data": {
      "text/plain": [
       "Index(['game_id', 'game_event_id', 'player_name', 'period',\n",
       "       'minutes_remaining', 'seconds_remaining', 'action_type', 'shot_type',\n",
       "       'shot_zone_basic', 'shot_zone_area', 'shot_zone_range', 'shot_distance',\n",
       "       'loc_x', 'loc_y', 'htm', 'vtm', 'season_type',\n",
       "       'scoremargin_before_shot', 'month', 'Homecourt_Advantage', 'Opponenet',\n",
       "       'seconds_remaining_in_per', 'seconds_remaining_in_game',\n",
       "       'previous_shot_made_corr'],\n",
       "      dtype='object')"
      ]
     },
     "execution_count": 31,
     "metadata": {},
     "output_type": "execute_result"
    }
   ],
   "source": [
    "early_2017 = (df['year'] == 2017) & (df['month'] < 7)\n",
    "late_2017 = (df['year'] == 2017) & (df['month'] >= 7)\n",
    "early_2018 = (df['year'] == 2018) & (df['month'] < 7)\n",
    "late_2018 = (df['year'] == 2018) & (df['month'] >= 7)\n",
    "\n",
    "train_condition = (df['year'] <= 2016) | (early_2017)\n",
    "\n",
    "val_condition = (late_2017) | (early_2018)\n",
    "test_condition = (late_2018) | (df['year'] > 2018)\n",
    "\n",
    "train = df[train_condition].copy()\n",
    "val = df[val_condition].copy()\n",
    "test = df[test_condition].copy()\n",
    "\n",
    "drop_these = ['not_first_shot', 'previous_shot_made', 'year', target]\n",
    "features = test.drop(columns=drop_these).columns\n",
    "\n",
    "pp_train, pp_val, pp_test = pre_processing(train[features], val[features], test[features])\n",
    "\n",
    "model = RandomForestClassifier(n_estimators = 1000)\n",
    "model.fit(pp_train, train[target])\n",
    "\n",
    "pp_train.columns"
   ]
  },
  {
   "cell_type": "markdown",
   "metadata": {
    "colab_type": "text",
    "id": "gWRX4uaY9NCw"
   },
   "source": [
    "## Part 2. Evaluate models\n",
    "\n",
    "### Required\n",
    "1. Get your model's **validation accuracy.** (Multiple times if you try multiple iterations.)"
   ]
  },
  {
   "cell_type": "code",
   "execution_count": 33,
   "metadata": {},
   "outputs": [
    {
     "data": {
      "text/plain": [
       "0.6018835616438356"
      ]
     },
     "execution_count": 33,
     "metadata": {},
     "output_type": "execute_result"
    }
   ],
   "source": [
    "acc(val[target],model.predict(pp_val))"
   ]
  },
  {
   "cell_type": "code",
   "execution_count": 35,
   "metadata": {},
   "outputs": [
    {
     "data": {
      "text/plain": [
       "0.598458904109589"
      ]
     },
     "execution_count": 35,
     "metadata": {},
     "output_type": "execute_result"
    }
   ],
   "source": [
    "features = ['previous_shot_made_corr', 'seconds_remaining_in_game','seconds_remaining_in_per',\n",
    "            'Opponenet', 'Homecourt_Advantage', 'month', 'scoremargin_before_shot',\n",
    "            'season_type', 'action_type', 'shot_type',\n",
    "            'shot_zone_basic', 'shot_zone_area', 'shot_zone_range', 'shot_distance',\n",
    "            'loc_x', 'loc_y', 'period'\n",
    "           ]\n",
    "\n",
    "pp_train, pp_val, pp_test = pre_processing(train[features], val[features], test[features])\n",
    "\n",
    "model = RandomForestClassifier(n_estimators = 1000)\n",
    "model.fit(pp_train, train[target])\n",
    "\n",
    "acc(val[target],model.predict(pp_val))"
   ]
  },
  {
   "cell_type": "markdown",
   "metadata": {},
   "source": [
    "2. Get your model's **test accuracy.** (One time, at the end.)"
   ]
  },
  {
   "cell_type": "code",
   "execution_count": 36,
   "metadata": {},
   "outputs": [
    {
     "data": {
      "text/plain": [
       "0.6307782328847279"
      ]
     },
     "execution_count": 36,
     "metadata": {},
     "output_type": "execute_result"
    }
   ],
   "source": [
    "drop_these = ['not_first_shot', 'previous_shot_made', 'year', target]\n",
    "features = test.drop(columns=drop_these).columns\n",
    "\n",
    "pp_train, pp_val, pp_test = pre_processing(train[features], val[features], test[features])\n",
    "\n",
    "model = RandomForestClassifier(n_estimators = 1000)\n",
    "model.fit(pp_train, train[target])\n",
    "\n",
    "acc(test[target],model.predict(pp_test))"
   ]
  },
  {
   "cell_type": "markdown",
   "metadata": {},
   "source": [
    "3. Get and plot your Random Forest's **feature importances** _or_ your Logistic Regression's **coefficients.**"
   ]
  },
  {
   "cell_type": "code",
   "execution_count": 72,
   "metadata": {},
   "outputs": [
    {
     "data": {
      "text/plain": [
       "<BarContainer object of 24 artists>"
      ]
     },
     "execution_count": 72,
     "metadata": {},
     "output_type": "execute_result"
    },
    {
     "data": {
      "image/png": "[encoded data removed]",
      "text/plain": [
       "<Figure size 432x288 with 1 Axes>"
      ]
     },
     "metadata": {
      "needs_background": "light"
     },
     "output_type": "display_data"
    }
   ],
   "source": [
    "from matplotlib import pyplot as plt\n",
    "\n",
    "feature_importance = pd.DataFrame({'features':pp_train.columns, 'importance':model.feature_importances_})\n",
    "f_im = feature_importance.sort_values(by=['importance'], ascending=True).set_index(['features'])\n",
    "\n",
    "plt.barh(f_im.index, f_im['importance'])"
   ]
  },
  {
   "cell_type": "markdown",
   "metadata": {},
   "source": [
    "4. Imagine this is the confusion matrix for a binary classification model. **Calculate accuracy, precision, and recall for this confusion matrix:**\n",
    "\n",
    "<table>\n",
    "  <tr>\n",
    "    <td colspan=\"2\" rowspan=\"2\"></td>\n",
    "    <td colspan=\"2\">Predicted</td>\n",
    "  </tr>\n",
    "  <tr>\n",
    "    <td>Negative</td>\n",
    "    <td>Positive</td>\n",
    "  </tr>\n",
    "  <tr>\n",
    "    <td rowspan=\"2\">Actual</td>\n",
    "    <td>Negative</td>\n",
    "    <td style=\"border: solid\">85</td>\n",
    "    <td style=\"border: solid\">58</td>\n",
    "  </tr>\n",
    "  <tr>\n",
    "    <td>Positive</td>\n",
    "    <td style=\"border: solid\">8</td>\n",
    "    <td style=\"border: solid\"> 36</td>\n",
    "  </tr>\n",
    "</table>"
   ]
  },
  {
   "cell_type": "code",
   "execution_count": 86,
   "metadata": {},
   "outputs": [
    {
     "data": {
      "text/plain": [
       "(80.5944055944056, 0.3829787234042553, 0.8181818181818182)"
      ]
     },
     "execution_count": 86,
     "metadata": {},
     "output_type": "execute_result"
    }
   ],
   "source": [
    "Ac_neg = 85 + 58\n",
    "Ac_pos = 8 + 36\n",
    "Pr_neg = 85 + 8\n",
    "Pr_pos = 58 + 36\n",
    "\n",
    "False_pos = 58\n",
    "True_pos = 36\n",
    "False_neg = 8\n",
    "True_neg = 85\n",
    "\n",
    "Accuracy = True_pos + True_neg / Ac_neg + Ac_pos\n",
    "Precision = True_pos / Pr_pos\n",
    "Recall = True_pos / Ac_pos\n",
    "\n",
    "Accuracy, Precision, Recall"
   ]
  },
  {
   "cell_type": "markdown",
   "metadata": {},
   "source": [
    "### Stretch goals\n",
    "- Calculate F1 score for the provided, imaginary confusion matrix."
   ]
  },
  {
   "cell_type": "code",
   "execution_count": 91,
   "metadata": {},
   "outputs": [
    {
     "data": {
      "text/plain": [
       "0.5217391304347826"
      ]
     },
     "execution_count": 91,
     "metadata": {},
     "output_type": "execute_result"
    }
   ],
   "source": [
    "F1 = 2 * Precision * Recall / (Precision + Recall)\n",
    "F1"
   ]
  },
  {
   "cell_type": "markdown",
   "metadata": {},
   "source": [
    "- Plot a real confusion matrix for your basketball model, with row and column labels."
   ]
  },
  {
   "cell_type": "code",
   "execution_count": 114,
   "metadata": {},
   "outputs": [
    {
     "data": {
      "text/html": [
       "<div>\n",
       "<style scoped>\n",
       "    .dataframe tbody tr th:only-of-type {\n",
       "        vertical-align: middle;\n",
       "    }\n",
       "\n",
       "    .dataframe tbody tr th {\n",
       "        vertical-align: top;\n",
       "    }\n",
       "\n",
       "    .dataframe thead th {\n",
       "        text-align: right;\n",
       "    }\n",
       "</style>\n",
       "<table border=\"1\" class=\"dataframe\">\n",
       "  <thead>\n",
       "    <tr style=\"text-align: right;\">\n",
       "      <th></th>\n",
       "      <th>Predicted 1</th>\n",
       "      <th>Predicted 0</th>\n",
       "    </tr>\n",
       "  </thead>\n",
       "  <tbody>\n",
       "    <tr>\n",
       "      <th>Actual 1</th>\n",
       "      <td>605</td>\n",
       "      <td>307</td>\n",
       "    </tr>\n",
       "    <tr>\n",
       "      <th>Actual 0</th>\n",
       "      <td>324</td>\n",
       "      <td>473</td>\n",
       "    </tr>\n",
       "  </tbody>\n",
       "</table>\n",
       "</div>"
      ],
      "text/plain": [
       "          Predicted 1  Predicted 0\n",
       "Actual 1          605          307\n",
       "Actual 0          324          473"
      ]
     },
     "execution_count": 114,
     "metadata": {},
     "output_type": "execute_result"
    }
   ],
   "source": [
    "from sklearn.metrics import confusion_matrix, classification_report\n",
    "\n",
    "labels = test[target].unique()\n",
    "columns = [f'Predicted {label}' for label in labels]\n",
    "index = [f'Actual {label}' for label in labels]\n",
    "pd.DataFrame(confusion_matrix(test[target],model.predict(pp_test)), columns=columns, index=index)"
   ]
  },
  {
   "cell_type": "markdown",
   "metadata": {},
   "source": [
    "- Print the classification report for your model."
   ]
  },
  {
   "cell_type": "code",
   "execution_count": 119,
   "metadata": {},
   "outputs": [
    {
     "name": "stdout",
     "output_type": "stream",
     "text": [
      "              precision    recall  f1-score   support\n",
      "\n",
      "           0       0.65      0.66      0.66       912\n",
      "           1       0.61      0.59      0.60       797\n",
      "\n",
      "    accuracy                           0.63      1709\n",
      "   macro avg       0.63      0.63      0.63      1709\n",
      "weighted avg       0.63      0.63      0.63      1709\n",
      "\n"
     ]
    }
   ],
   "source": [
    "print(classification_report(test[target],model.predict(pp_test)))"
   ]
  },
  {
   "cell_type": "code",
   "execution_count": null,
   "metadata": {},
   "outputs": [],
   "source": []
  }
 ],
 "metadata": {
  "colab": {
   "name": "DS_Sprint_Challenge_7_Classification_1.ipynb",
   "provenance": [],
   "version": "0.3.2"
  },
  "kernelspec": {
   "display_name": "Python 3",
   "language": "python",
   "name": "python3"
  },
  "language_info": {
   "codemirror_mode": {
    "name": "ipython",
    "version": 3
   },
   "file_extension": ".py",
   "mimetype": "text/x-python",
   "name": "python",
   "nbconvert_exporter": "python",
   "pygments_lexer": "ipython3",
   "version": "3.7.4"
  }
 },
 "nbformat": 4,
 "nbformat_minor": 1
}
